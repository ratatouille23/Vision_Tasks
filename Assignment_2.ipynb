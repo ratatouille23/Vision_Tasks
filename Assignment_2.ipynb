{
  "nbformat": 4,
  "nbformat_minor": 0,
  "metadata": {
    "colab": {
      "provenance": [],
      "include_colab_link": true
    },
    "kernelspec": {
      "name": "python3",
      "display_name": "Python 3"
    },
    "language_info": {
      "name": "python"
    }
  },
  "cells": [
    {
      "cell_type": "markdown",
      "metadata": {
        "id": "view-in-github",
        "colab_type": "text"
      },
      "source": [
        "<a href=\"https://colab.research.google.com/github/ratatouille23/Vision_Tasks/blob/master/Assignment_2.ipynb\" target=\"_parent\"><img src=\"https://colab.research.google.com/assets/colab-badge.svg\" alt=\"Open In Colab\"/></a>"
      ]
    },
    {
      "cell_type": "markdown",
      "source": [
        "**Question 1** : In the folowing definition of a probabilistic model:\n",
        "\n",
        "$Y \\sim \\mathcal{N}(\\mu, \\sigma)$\n",
        "\n",
        "$\\mu \\sim \\mathcal{N}(0, 2)$\n",
        "\n",
        "$\\sigma \\sim \\mathcal{halfnormal}(0.75)$\n",
        "\n",
        "1.1 - Identify the prior and the likelihood.\n",
        "\n",
        "1.2  - How many parameters will the posterior have?\n",
        "\n",
        "1.3 - Compare it with the model for the coin-flipping problem.\n",
        "\n",
        "1.4 - Write Bayes' theorem for the model.\n"
      ],
      "metadata": {
        "id": "hwM409w2WnEh"
      }
    },
    {
      "cell_type": "code",
      "execution_count": null,
      "metadata": {
        "id": "g56rGWZ7RzxG"
      },
      "outputs": [],
      "source": [
        "helllokdlFLDK"
      ]
    },
    {
      "cell_type": "markdown",
      "source": [
        "**Question 2**\n",
        "\n",
        "Let’s suppose that we have two coins; when we toss the first coin, half of the time it lands on tails\n",
        " and half of the time on heads. The other coin is a loaded coin that always lands on heads. If we take\n",
        " one of the coins at random and get a head, what is the probability that this coin is the unfair one?"
      ],
      "metadata": {
        "id": "8IsHvQD6WoGG"
      }
    },
    {
      "cell_type": "code",
      "source": [],
      "metadata": {
        "id": "SlOZ8Ny3TsNt"
      },
      "execution_count": null,
      "outputs": []
    },
    {
      "cell_type": "markdown",
      "source": [
        "**Question 3**\n",
        "\n",
        "\n",
        "Using PyMC, change the parameters of the prior Beta distribution in `our_first_model` to match those of Week 2. Compare the results."
      ],
      "metadata": {
        "id": "VvxJplIpWpaN"
      }
    },
    {
      "cell_type": "code",
      "source": [],
      "metadata": {
        "id": "RqinTikSWivK"
      },
      "execution_count": null,
      "outputs": []
    }
  ]
}